{
 "cells": [
  {
   "cell_type": "markdown",
   "metadata": {},
   "source": [
    "# Newyork Yellow Taxi Trip Data Analysis\n",
    "\n",
    "https://www.kaggle.com/datasets/microize/newyork-yellow-taxi-trip-data-2020-2019/data\n",
    "\n",
    "\n",
    "## Dataset description\n",
    "\n",
    "\n",
    "#### Analysis ideas:\n",
    "- basic satistics such as mean, median, fashion, variance, standard deviation, minimum, maximum, quantiles, etc. for each attribute\n",
    "- distribution of number of passengers per trip\n",
    "- distribution of the number of trips for each hour of the day\n",
    "- distribution of pickups and drop-offs for each city area\n",
    "- distribution of payment types\n",
    "- frequnction of \"store and forward\" trips (booked trips) and comparison with other types of trips\n",
    "- distribution of tip (tip) amounts for each hour of the day\n",
    "- distribution of toll amounts\n",
    "- distribution of total amounts\n",
    "- understanding whether there are correlations between costs, times, and distances"
   ]
  },
  {
   "cell_type": "markdown",
   "metadata": {},
   "source": [
    "<p style=\"color:red\"> RUN THE CELL BELOW ONLY FOR MERGE ALL DATASETS </p>"
   ]
  },
  {
   "cell_type": "code",
   "execution_count": 8,
   "metadata": {},
   "outputs": [
    {
     "name": "stdout",
     "output_type": "stream",
     "text": [
      "./data\\yellow_tripdata_2019-01.csv done\n",
      "./data\\yellow_tripdata_2019-02.csv done\n",
      "./data\\yellow_tripdata_2019-03.csv done\n",
      "./data\\yellow_tripdata_2019-04.csv done\n",
      "./data\\yellow_tripdata_2019-05.csv done\n",
      "./data\\yellow_tripdata_2019-06.csv done\n"
     ]
    },
    {
     "name": "stderr",
     "output_type": "stream",
     "text": [
      "C:\\Users\\Sostene\\AppData\\Local\\Temp\\ipykernel_18632\\392334082.py:10: DtypeWarning: Columns (6) have mixed types. Specify dtype option on import or set low_memory=False.\n",
      "  df = pd.read_csv(filename, index_col=None, header=0)\n"
     ]
    },
    {
     "name": "stdout",
     "output_type": "stream",
     "text": [
      "./data\\yellow_tripdata_2019-07.csv done\n"
     ]
    },
    {
     "name": "stderr",
     "output_type": "stream",
     "text": [
      "C:\\Users\\Sostene\\AppData\\Local\\Temp\\ipykernel_18632\\392334082.py:10: DtypeWarning: Columns (6) have mixed types. Specify dtype option on import or set low_memory=False.\n",
      "  df = pd.read_csv(filename, index_col=None, header=0)\n"
     ]
    },
    {
     "name": "stdout",
     "output_type": "stream",
     "text": [
      "./data\\yellow_tripdata_2019-08.csv done\n"
     ]
    },
    {
     "name": "stderr",
     "output_type": "stream",
     "text": [
      "C:\\Users\\Sostene\\AppData\\Local\\Temp\\ipykernel_18632\\392334082.py:10: DtypeWarning: Columns (6) have mixed types. Specify dtype option on import or set low_memory=False.\n",
      "  df = pd.read_csv(filename, index_col=None, header=0)\n"
     ]
    },
    {
     "name": "stdout",
     "output_type": "stream",
     "text": [
      "./data\\yellow_tripdata_2019-09.csv done\n"
     ]
    },
    {
     "name": "stderr",
     "output_type": "stream",
     "text": [
      "C:\\Users\\Sostene\\AppData\\Local\\Temp\\ipykernel_18632\\392334082.py:10: DtypeWarning: Columns (6) have mixed types. Specify dtype option on import or set low_memory=False.\n",
      "  df = pd.read_csv(filename, index_col=None, header=0)\n"
     ]
    },
    {
     "name": "stdout",
     "output_type": "stream",
     "text": [
      "./data\\yellow_tripdata_2019-10.csv done\n"
     ]
    },
    {
     "name": "stderr",
     "output_type": "stream",
     "text": [
      "C:\\Users\\Sostene\\AppData\\Local\\Temp\\ipykernel_18632\\392334082.py:10: DtypeWarning: Columns (6) have mixed types. Specify dtype option on import or set low_memory=False.\n",
      "  df = pd.read_csv(filename, index_col=None, header=0)\n"
     ]
    },
    {
     "name": "stdout",
     "output_type": "stream",
     "text": [
      "./data\\yellow_tripdata_2019-11.csv done\n"
     ]
    },
    {
     "name": "stderr",
     "output_type": "stream",
     "text": [
      "C:\\Users\\Sostene\\AppData\\Local\\Temp\\ipykernel_18632\\392334082.py:10: DtypeWarning: Columns (6) have mixed types. Specify dtype option on import or set low_memory=False.\n",
      "  df = pd.read_csv(filename, index_col=None, header=0)\n"
     ]
    },
    {
     "name": "stdout",
     "output_type": "stream",
     "text": [
      "./data\\yellow_tripdata_2019-12.csv done\n",
      "Concatenation done\n",
      "CSV file created\n"
     ]
    }
   ],
   "source": [
    "import pandas as pd\n",
    "import glob\n",
    "\n",
    "csv_files = glob.glob('./data/*.csv')\n",
    "csv_files.remove('./data\\\\taxi+_zone_lookup.csv')\n",
    "\n",
    "dfs = []\n",
    "\n",
    "for filename in csv_files:\n",
    "    df = pd.read_csv(filename, index_col=None, header=0)\n",
    "    print(filename + ' done')\n",
    "    dfs.append(df)\n",
    "\n",
    "df = pd.concat(dfs, axis=0, ignore_index=True)\n",
    "print('Concatenation done')\n",
    "df.to_csv('./data/combined.csv', index=False)\n",
    "print('CSV file created')"
   ]
  },
  {
   "cell_type": "code",
   "execution_count": 13,
   "metadata": {},
   "outputs": [
    {
     "ename": "ModuleNotFoundError",
     "evalue": "No module named 'matplotlib'",
     "output_type": "error",
     "traceback": [
      "\u001b[1;31m---------------------------------------------------------------------------\u001b[0m",
      "\u001b[1;31mModuleNotFoundError\u001b[0m                       Traceback (most recent call last)",
      "\u001b[1;32mc:\\Users\\Sostene\\Documents\\Scuola\\SUPSI\\semestre 5\\data science\\DataScienceSem5\\project.ipynb Cell 4\u001b[0m line \u001b[0;36m9\n\u001b[0;32m      <a href='vscode-notebook-cell:/c%3A/Users/Sostene/Documents/Scuola/SUPSI/semestre%205/data%20science/DataScienceSem5/project.ipynb#W3sZmlsZQ%3D%3D?line=5'>6</a>\u001b[0m df\u001b[39m.\u001b[39mhead()\n\u001b[0;32m      <a href='vscode-notebook-cell:/c%3A/Users/Sostene/Documents/Scuola/SUPSI/semestre%205/data%20science/DataScienceSem5/project.ipynb#W3sZmlsZQ%3D%3D?line=7'>8</a>\u001b[0m \u001b[39m#istogramma delle distanze\u001b[39;00m\n\u001b[1;32m----> <a href='vscode-notebook-cell:/c%3A/Users/Sostene/Documents/Scuola/SUPSI/semestre%205/data%20science/DataScienceSem5/project.ipynb#W3sZmlsZQ%3D%3D?line=8'>9</a>\u001b[0m \u001b[39mimport\u001b[39;00m \u001b[39mmatplotlib\u001b[39;00m\u001b[39m.\u001b[39;00m\u001b[39mpyplot\u001b[39;00m \u001b[39mas\u001b[39;00m \u001b[39mplt\u001b[39;00m\n\u001b[0;32m     <a href='vscode-notebook-cell:/c%3A/Users/Sostene/Documents/Scuola/SUPSI/semestre%205/data%20science/DataScienceSem5/project.ipynb#W3sZmlsZQ%3D%3D?line=9'>10</a>\u001b[0m \u001b[39mimport\u001b[39;00m \u001b[39mseaborn\u001b[39;00m \u001b[39mas\u001b[39;00m \u001b[39msns\u001b[39;00m\n\u001b[0;32m     <a href='vscode-notebook-cell:/c%3A/Users/Sostene/Documents/Scuola/SUPSI/semestre%205/data%20science/DataScienceSem5/project.ipynb#W3sZmlsZQ%3D%3D?line=10'>11</a>\u001b[0m \u001b[39mimport\u001b[39;00m \u001b[39mnumpy\u001b[39;00m \u001b[39mas\u001b[39;00m \u001b[39mnp\u001b[39;00m\n",
      "\u001b[1;31mModuleNotFoundError\u001b[0m: No module named 'matplotlib'"
     ]
    }
   ],
   "source": [
    "import pandas as pd\n",
    "\n",
    "df = pd.read_csv('./data/yellow_tripdata_2019-01.csv', index_col=None, header=0)\n",
    "\n",
    "\n"
   ]
  }
 ],
 "metadata": {
  "kernelspec": {
   "display_name": "Python 3",
   "language": "python",
   "name": "python3"
  },
  "language_info": {
   "codemirror_mode": {
    "name": "ipython",
    "version": 3
   },
   "file_extension": ".py",
   "mimetype": "text/x-python",
   "name": "python",
   "nbconvert_exporter": "python",
   "pygments_lexer": "ipython3",
   "version": "3.11.0"
  }
 },
 "nbformat": 4,
 "nbformat_minor": 2
}
